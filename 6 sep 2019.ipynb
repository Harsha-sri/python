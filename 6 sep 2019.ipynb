{
 "cells": [
  {
   "cell_type": "markdown",
   "metadata": {},
   "source": [
    "### Day objectivies\n",
    "1.Creating contacta using dictionaries\n",
    "\n",
    "2.Searching for contacts\n",
    "\n",
    "3.Packages and modules\n",
    "\n",
    "4.Regular Experssions\n",
    "\n",
    "5.File handling"
   ]
  },
  {
   "cell_type": "code",
   "execution_count": 3,
   "metadata": {},
   "outputs": [
    {
     "data": {
      "text/plain": [
       "{'k1': 'name', 'k2': 'age', 'k3': 'number'}"
      ]
     },
     "execution_count": 3,
     "metadata": {},
     "output_type": "execute_result"
    }
   ],
   "source": [
    "dict={'k1':\"name\",'k2':\"age\",'k3':\"number\"}\n",
    "dict"
   ]
  },
  {
   "cell_type": "code",
   "execution_count": 7,
   "metadata": {},
   "outputs": [
    {
     "data": {
      "text/plain": [
       "'name'"
      ]
     },
     "execution_count": 7,
     "metadata": {},
     "output_type": "execute_result"
    }
   ],
   "source": [
    "dict['k1']"
   ]
  },
  {
   "cell_type": "code",
   "execution_count": 6,
   "metadata": {},
   "outputs": [
    {
     "data": {
      "text/plain": [
       "dict_items([('k1', 'name'), ('k2', 'age'), ('k3', 'number')])"
      ]
     },
     "execution_count": 6,
     "metadata": {},
     "output_type": "execute_result"
    }
   ],
   "source": [
    "dict.items()"
   ]
  },
  {
   "cell_type": "code",
   "execution_count": 12,
   "metadata": {},
   "outputs": [
    {
     "name": "stdout",
     "output_type": "stream",
     "text": [
      "contact added succesfully\n",
      "contact added succesfully\n"
     ]
    }
   ],
   "source": [
    "## Adding a contact\n",
    "## name,phone number\n",
    "contacts={}\n",
    "def addcontact(name,phonenumber):\n",
    "    if name not in contacts:\n",
    "        contacts[name]=phonenumber\n",
    "        print(\"contact added succesfully\")\n",
    "    else:\n",
    "        print(\"contact already exits\")\n",
    "addcontact('name1',9652459009)\n",
    "addcontact('name2',8374909919)"
   ]
  },
  {
   "cell_type": "code",
   "execution_count": 17,
   "metadata": {},
   "outputs": [
    {
     "name": "stdout",
     "output_type": "stream",
     "text": [
      "name1 : 9652459009\n",
      "dosent exist\n"
     ]
    }
   ],
   "source": [
    "## searching contacts\n",
    "## using key \"name\"\n",
    "def searchcontact(name):\n",
    "    if name in contacts:\n",
    "        print(name, \":\",contacts[name])\n",
    "    else:\n",
    "        print(\"dosent exist\")\n",
    "searchcontact(\"name1\")\n",
    "searchcontact(\"name3\")"
   ]
  },
  {
   "cell_type": "code",
   "execution_count": 18,
   "metadata": {},
   "outputs": [
    {
     "name": "stdout",
     "output_type": "stream",
     "text": [
      "contact added succesfully\n"
     ]
    }
   ],
   "source": [
    "addcontact('name3',987564213)"
   ]
  },
  {
   "cell_type": "code",
   "execution_count": 19,
   "metadata": {},
   "outputs": [
    {
     "name": "stdout",
     "output_type": "stream",
     "text": [
      "name3 : 987564213\n"
     ]
    }
   ],
   "source": [
    "searchcontact(\"name3\")"
   ]
  },
  {
   "cell_type": "code",
   "execution_count": 22,
   "metadata": {},
   "outputs": [
    {
     "name": "stdout",
     "output_type": "stream",
     "text": [
      "2 contacts added succesfully\n"
     ]
    }
   ],
   "source": [
    "###merging two contacts\n",
    "### using update method\n",
    "def mergingcontact(newcontacts):\n",
    "    contacts.update(newcontacts)\n",
    "    print(len(newcontacts.keys()),\"contacts added succesfully\")\n",
    "\n",
    "newcontacts={'name4':8974563211,'name5':754587258647}\n",
    "mergingcontact(newcontacts)"
   ]
  },
  {
   "cell_type": "code",
   "execution_count": 25,
   "metadata": {},
   "outputs": [
    {
     "name": "stdout",
     "output_type": "stream",
     "text": [
      "contact added succesfully\n"
     ]
    }
   ],
   "source": [
    "\n",
    "##dictionary mobliecontacts\n",
    "## Add a contact\n",
    "## key :'a',value:987564123910\n",
    "### anthoer dictionary :applemoblie\n",
    "##key :'b',value:7894561230\n",
    "contacts={}\n",
    "def mobilecontacts(name,phonenumber):\n",
    "    if name not in contacts:\n",
    "        contacts[name]=phonenumber\n",
    "        print(\"contact added succesfully\")\n",
    "    else:\n",
    "        print(\"contact already exits\")\n",
    "mobilecontacts('a',9875641230)\n"
   ]
  },
  {
   "cell_type": "code",
   "execution_count": null,
   "metadata": {},
   "outputs": [],
   "source": [
    "def applemobile(newcontacts):\n",
    "    contact"
   ]
  },
  {
   "cell_type": "markdown",
   "metadata": {},
   "source": [
    "### packages and Module\n",
    "\n",
    "#### packages-> Collection of module\n",
    "\n",
    "### module-> Collection of functions"
   ]
  },
  {
   "cell_type": "code",
   "execution_count": 38,
   "metadata": {},
   "outputs": [
    {
     "ename": "ImportError",
     "evalue": "cannot import name 'prime'",
     "output_type": "error",
     "traceback": [
      "\u001b[1;31m---------------------------------------------------------------------------\u001b[0m",
      "\u001b[1;31mImportError\u001b[0m                               Traceback (most recent call last)",
      "\u001b[1;32m<ipython-input-38-5379774aee0a>\u001b[0m in \u001b[0;36m<module>\u001b[1;34m()\u001b[0m\n\u001b[1;32m----> 1\u001b[1;33m \u001b[1;32mfrom\u001b[0m \u001b[0mPackages\u001b[0m\u001b[1;33m.\u001b[0m\u001b[0mnumerical\u001b[0m \u001b[1;32mimport\u001b[0m \u001b[0mprime\u001b[0m\u001b[1;33m\u001b[0m\u001b[0m\n\u001b[0m\u001b[0;32m      2\u001b[0m \u001b[0mprime\u001b[0m\u001b[1;33m(\u001b[0m\u001b[1;36m10\u001b[0m\u001b[1;33m)\u001b[0m\u001b[1;33m\u001b[0m\u001b[0m\n",
      "\u001b[1;31mImportError\u001b[0m: cannot import name 'prime'"
     ]
    }
   ],
   "source": [
    "from Packages.numerical import prime\n",
    "prime(10)"
   ]
  },
  {
   "cell_type": "code",
   "execution_count": 39,
   "metadata": {},
   "outputs": [
    {
     "ename": "ImportError",
     "evalue": "cannot import name 'number'",
     "output_type": "error",
     "traceback": [
      "\u001b[1;31m---------------------------------------------------------------------------\u001b[0m",
      "\u001b[1;31mImportError\u001b[0m                               Traceback (most recent call last)",
      "\u001b[1;32m<ipython-input-39-8e41a904122b>\u001b[0m in \u001b[0;36m<module>\u001b[1;34m()\u001b[0m\n\u001b[1;32m----> 1\u001b[1;33m \u001b[1;32mfrom\u001b[0m \u001b[0mPackages\u001b[0m\u001b[1;33m.\u001b[0m\u001b[0mnumerical\u001b[0m \u001b[1;32mimport\u001b[0m \u001b[0mnumber\u001b[0m\u001b[1;33m\u001b[0m\u001b[0m\n\u001b[0m\u001b[0;32m      2\u001b[0m \u001b[0mnumber\u001b[0m\u001b[1;33m(\u001b[0m\u001b[1;36m6\u001b[0m\u001b[1;33m,\u001b[0m\u001b[1;36m4\u001b[0m\u001b[1;33m)\u001b[0m\u001b[1;33m\u001b[0m\u001b[0m\n",
      "\u001b[1;31mImportError\u001b[0m: cannot import name 'number'"
     ]
    }
   ],
   "source": [
    "from Packages.numerical import number\n",
    "number(6,4)"
   ]
  },
  {
   "cell_type": "code",
   "execution_count": 41,
   "metadata": {},
   "outputs": [
    {
     "name": "stdout",
     "output_type": "stream",
     "text": [
      "58\n",
      "94\n",
      "47\n",
      "75\n",
      "74\n",
      "94\n",
      "24\n",
      "70\n",
      "16\n",
      "29\n"
     ]
    }
   ],
   "source": [
    "#### generating marks using random prebulit function\n",
    "import random\n",
    "def generatemarks(n,lb,ub):\n",
    "    for i in range(0,n):\n",
    "        print(random.randint(lb,ub))\n",
    "generatemarks(10,0,100)"
   ]
  },
  {
   "cell_type": "code",
   "execution_count": 42,
   "metadata": {},
   "outputs": [
    {
     "name": "stdout",
     "output_type": "stream",
     "text": [
      "9\n",
      "13\n",
      "22\n",
      "9\n",
      "17\n",
      "1\n",
      "21\n",
      "2\n",
      "6\n",
      "12\n",
      "1\n",
      "18\n",
      "6\n",
      "15\n",
      "13\n",
      "22\n",
      "13\n",
      "13\n",
      "20\n",
      "22\n",
      "18\n",
      "5\n",
      "7\n",
      "21\n",
      "23\n"
     ]
    }
   ],
   "source": [
    "import random\n",
    "def marks(n,lb,ub):\n",
    "    for i in range(0,25):\n",
    "        print(random.randint(lb,ub))\n",
    "marks(25,0,25)"
   ]
  },
  {
   "cell_type": "markdown",
   "metadata": {},
   "source": [
    "##  Regular Expressions\n",
    "#### patern matching\n",
    "#### sequenceof characters that matches with a pattern(string)\n",
    "#### Regural expressions works with string\n",
    "#### we have to import regular expression while wrighting a program\n",
    "#### regural expression starts with ^and ends with $\n",
    "####[]  Represent a character\n",
    "#### *  Number of occurances(Zero also)\n",
    "#### +  Number of occurances(from 1)\n",
    "#### .  To match character\n",
    "#### ?  For zero or for occurances\n",
    "#### |  OR\n",
    "#### {} Range set\n",
    "#### () for enclosing of regular expressions\n",
    "\n",
    "####[0-9]->Any digit\n",
    "\n",
    "####[A-Z]->Any lower case alphabit\n",
    "\n",
    "####[2468]->All single digit multiplies of two\n",
    "\n",
    "####^[0-9]{1}$Only single digit numbers\n",
    "\n",
    "####^[0-9]{3}$Only 3 digit numbers\n",
    "\n",
    "####[0-9]*0$->All multiples of 10\n",
    "\n",
    "####^([1-9][0-9]*[05])|([5])->All multiples of 5\n",
    "\n",
    "####[w][o][r][d]or(word)->search from a 'word'\n",
    "\n",
    "\n"
   ]
  },
  {
   "cell_type": "code",
   "execution_count": 52,
   "metadata": {},
   "outputs": [
    {
     "name": "stdout",
     "output_type": "stream",
     "text": [
      "invalid\n",
      "invalid\n",
      "invalid\n",
      "valid\n"
     ]
    }
   ],
   "source": [
    "### function for phonenumber validation using\n",
    "### regular experssion\n",
    "import re\n",
    "def phonenumbervalidiator(number):\n",
    "    pattern='^[6-9][0-9]{9}$'\n",
    "    if re.match(pattern,number):\n",
    "        print(\"valid\")\n",
    "    else:\n",
    "        print(\"invalid\")\n",
    "phonenumbervalidiator('654715545')\n",
    "phonenumbervalidiator('895746529')\n",
    "phonenumbervalidiator('874756899')\n",
    "phonenumbervalidiator('6383773739')"
   ]
  },
  {
   "cell_type": "code",
   "execution_count": 51,
   "metadata": {},
   "outputs": [
    {
     "name": "stdout",
     "output_type": "stream",
     "text": [
      "valid\n"
     ]
    }
   ],
   "source": [
    "import re\n",
    "def phonenumbervalidiator(number):\n",
    "    pattern='^[0-9][0-9]{9}$'\n",
    "    if re.match(pattern,number):\n",
    "        print(\"valid\")\n",
    "    else:\n",
    "        print(\"invalid\")\n",
    "phonenumbervalidiator('0383773739')"
   ]
  },
  {
   "cell_type": "code",
   "execution_count": 53,
   "metadata": {},
   "outputs": [
    {
     "name": "stdout",
     "output_type": "stream",
     "text": [
      "valid\n"
     ]
    }
   ],
   "source": [
    "## pattern for email valdation\n",
    "### email id username,domain,extension\n",
    "## pattern ='^[a-z 0-9][a-z0-9_.]{3,18}[@][a-z0-9]{4,20}'\n",
    "###[.][a-z]{2,4}\n",
    "def mail(email):\n",
    "    pattern ='^[a-z0-9][a-z0-9_.]{3,18}[@][a-z0-9]{4,20}[.][a-z]{2,4}$'\n",
    "    if re.match(pattern,email):\n",
    "        print(\"valid\")\n",
    "    else:\n",
    "        print(\"invalid\")\n",
    "mail(\"harshasri@gmail.com\")"
   ]
  },
  {
   "cell_type": "markdown",
   "metadata": {},
   "source": [
    "### File handling\n",
    "## opening a file\n",
    "## preforming operations(read ,write,append)\n",
    "### closing a file\n",
    "##  syntax:\n",
    "  file_obj=open(\"filepath\",\"mode)"
   ]
  },
  {
   "cell_type": "code",
   "execution_count": 71,
   "metadata": {},
   "outputs": [
    {
     "name": "stdout",
     "output_type": "stream",
     "text": [
      "line 4\n",
      "line 4\n",
      "line 5\n",
      "20\n"
     ]
    }
   ],
   "source": [
    "f=open(\"data files/data.txt\",\"r\")\n",
    "print(f.read())\n",
    "print(f.tell())"
   ]
  },
  {
   "cell_type": "code",
   "execution_count": 76,
   "metadata": {},
   "outputs": [
    {
     "name": "stdout",
     "output_type": "stream",
     "text": [
      "38\n",
      "56\n",
      "0\n"
     ]
    }
   ],
   "source": [
    "with open(\"data files/data.txt\",\"a+\") as f:\n",
    "        f.read()\n",
    "        print(f.tell())\n",
    "        f.write(\"line 5\\line6\\line9\")\n",
    "        print(f.tell())\n",
    "        f.seek(0)\n",
    "        print(f.tell())\n",
    "        "
   ]
  },
  {
   "cell_type": "code",
   "execution_count": 65,
   "metadata": {},
   "outputs": [
    {
     "name": "stdout",
     "output_type": "stream",
     "text": [
      "line1\n",
      "line23\n",
      "line34\n",
      "line45\n",
      "\n"
     ]
    }
   ],
   "source": [
    "d=open(\"data files/file.txt\",\"r\")\n",
    "print(d.read())"
   ]
  },
  {
   "cell_type": "code",
   "execution_count": 69,
   "metadata": {},
   "outputs": [],
   "source": [
    "with open(\"data files/file.txt\",\"a\") as d:\n",
    "    d.write(\"line 83\")"
   ]
  },
  {
   "cell_type": "code",
   "execution_count": 75,
   "metadata": {},
   "outputs": [
    {
     "ename": "ValueError",
     "evalue": "I/O operation on closed file.",
     "output_type": "error",
     "traceback": [
      "\u001b[1;31m---------------------------------------------------------------------------\u001b[0m",
      "\u001b[1;31mValueError\u001b[0m                                Traceback (most recent call last)",
      "\u001b[1;32m<ipython-input-75-2377fbc05ffe>\u001b[0m in \u001b[0;36m<module>\u001b[1;34m()\u001b[0m\n\u001b[1;32m----> 1\u001b[1;33m \u001b[0mf\u001b[0m\u001b[1;33m.\u001b[0m\u001b[0mseek\u001b[0m\u001b[1;33m(\u001b[0m\u001b[1;36m0\u001b[0m\u001b[1;33m)\u001b[0m\u001b[1;33m\u001b[0m\u001b[0m\n\u001b[0m\u001b[0;32m      2\u001b[0m \u001b[0mprint\u001b[0m\u001b[1;33m(\u001b[0m\u001b[0mf\u001b[0m\u001b[1;33m.\u001b[0m\u001b[0mtell\u001b[0m\u001b[1;33m(\u001b[0m\u001b[1;33m)\u001b[0m\u001b[1;33m)\u001b[0m\u001b[1;33m\u001b[0m\u001b[0m\n",
      "\u001b[1;31mValueError\u001b[0m: I/O operation on closed file."
     ]
    }
   ],
   "source": [
    "f.seek(0)\n",
    "print(f.tell())"
   ]
  },
  {
   "cell_type": "code",
   "execution_count": 79,
   "metadata": {},
   "outputs": [
    {
     "name": "stdout",
     "output_type": "stream",
     "text": [
      "line1\n",
      "line2\n",
      "\n"
     ]
    }
   ],
   "source": [
    "e=open(\"data files/file.txt\",\"r\")\n",
    "print(e.read())"
   ]
  },
  {
   "cell_type": "code",
   "execution_count": 91,
   "metadata": {},
   "outputs": [
    {
     "name": "stdout",
     "output_type": "stream",
     "text": [
      "12\n"
     ]
    },
    {
     "ename": "UnsupportedOperation",
     "evalue": "not writable",
     "output_type": "error",
     "traceback": [
      "\u001b[1;31m---------------------------------------------------------------------------\u001b[0m",
      "\u001b[1;31mUnsupportedOperation\u001b[0m                      Traceback (most recent call last)",
      "\u001b[1;32m<ipython-input-91-dc458486bdb4>\u001b[0m in \u001b[0;36m<module>\u001b[1;34m()\u001b[0m\n\u001b[0;32m      2\u001b[0m     \u001b[0me\u001b[0m\u001b[1;33m.\u001b[0m\u001b[0mread\u001b[0m\u001b[1;33m(\u001b[0m\u001b[1;33m)\u001b[0m\u001b[1;33m\u001b[0m\u001b[0m\n\u001b[0;32m      3\u001b[0m     \u001b[0mprint\u001b[0m\u001b[1;33m(\u001b[0m\u001b[0me\u001b[0m\u001b[1;33m.\u001b[0m\u001b[0mtell\u001b[0m\u001b[1;33m(\u001b[0m\u001b[1;33m)\u001b[0m\u001b[1;33m)\u001b[0m\u001b[1;33m\u001b[0m\u001b[0m\n\u001b[1;32m----> 4\u001b[1;33m     \u001b[0me\u001b[0m\u001b[1;33m.\u001b[0m\u001b[0mwrite\u001b[0m\u001b[1;33m(\u001b[0m\u001b[1;34m\"line 2\"\u001b[0m\u001b[1;33m)\u001b[0m\u001b[1;33m\u001b[0m\u001b[0m\n\u001b[0m\u001b[0;32m      5\u001b[0m     \u001b[0mprint\u001b[0m\u001b[1;33m(\u001b[0m\u001b[0me\u001b[0m\u001b[1;33m.\u001b[0m\u001b[0mtell\u001b[0m\u001b[1;33m(\u001b[0m\u001b[1;33m)\u001b[0m\u001b[1;33m)\u001b[0m\u001b[1;33m\u001b[0m\u001b[0m\n\u001b[0;32m      6\u001b[0m     \u001b[0me\u001b[0m\u001b[1;33m.\u001b[0m\u001b[0mseek\u001b[0m\u001b[1;33m(\u001b[0m\u001b[1;36m2\u001b[0m\u001b[1;33m)\u001b[0m\u001b[1;33m\u001b[0m\u001b[0m\n",
      "\u001b[1;31mUnsupportedOperation\u001b[0m: not writable"
     ]
    }
   ],
   "source": [
    "with open(\"data files/file.txt\") as e :\n",
    "         e.read()\n",
    "         print(e.tell())\n",
    "    e.write(\"line 2\")\n",
    "    print(e.tell())\n",
    "    e.seek(2)\n",
    "    print(e.tell())"
   ]
  },
  {
   "cell_type": "code",
   "execution_count": 88,
   "metadata": {},
   "outputs": [
    {
     "name": "stdout",
     "output_type": "stream",
     "text": [
      "['l']\n",
      "\n",
      "['i']\n",
      "\n",
      "['n']\n",
      "\n",
      "['e']\n",
      "\n",
      "[]\n",
      "\n",
      "['1']\n",
      "\n",
      "[]\n",
      "\n",
      "['l']\n",
      "\n",
      "['i']\n",
      "\n",
      "['n']\n",
      "\n",
      "['e']\n",
      "\n",
      "[]\n",
      "\n",
      "['2']\n",
      "\n"
     ]
    }
   ],
   "source": [
    "with open(\"data files/data.txt\") as f:\n",
    "    data=f.read()\n",
    "    for line in data:\n",
    "        word=line.split()\n",
    "        print(word)\n",
    "        print(f.readline())"
   ]
  },
  {
   "cell_type": "code",
   "execution_count": 90,
   "metadata": {},
   "outputs": [
    {
     "name": "stdout",
     "output_type": "stream",
     "text": [
      "['line 1\\n', 'line 2']\n"
     ]
    }
   ],
   "source": [
    "with open(\"data files/data.txt\") as f:\n",
    "        print(f.readlines())"
   ]
  },
  {
   "cell_type": "code",
   "execution_count": 92,
   "metadata": {},
   "outputs": [
    {
     "name": "stdout",
     "output_type": "stream",
     "text": [
      "pyth$npogr$mming$evel2$orkshop\n"
     ]
    }
   ],
   "source": [
    "def readfile(filepath):\n",
    "    with open(filepath,\"r\") as f:\n",
    "        filedata=f.read()\n",
    "    return filedata\n",
    "\n",
    "filepath='data files/data.txt'\n",
    "print(readfile(filepath))"
   ]
  },
  {
   "cell_type": "code",
   "execution_count": 94,
   "metadata": {},
   "outputs": [
    {
     "name": "stdout",
     "output_type": "stream",
     "text": [
      "4\n"
     ]
    }
   ],
   "source": [
    "def linecount(filename):\n",
    "    count = 0\n",
    "    with open(filename,'r') as f:\n",
    "        for i in f:\n",
    "            count=count+1\n",
    "    return count\n",
    "filename='data files/data.txt'\n",
    "print(linecount(filename))"
   ]
  },
  {
   "cell_type": "code",
   "execution_count": 104,
   "metadata": {},
   "outputs": [
    {
     "name": "stdout",
     "output_type": "stream",
     "text": [
      "5\n"
     ]
    }
   ],
   "source": [
    "import re\n",
    "def wordcount(filepath):\n",
    "        pattern = '[ \\n]'\n",
    "        filedata = readfile(filepath)\n",
    "        count = len(re.split(pattern,filedata))\n",
    "        return count\n",
    "filename='data files/data.txt'\n",
    "print(wordcount(filepath))"
   ]
  },
  {
   "cell_type": "code",
   "execution_count": 107,
   "metadata": {},
   "outputs": [
    {
     "name": "stdout",
     "output_type": "stream",
     "text": [
      "5\n"
     ]
    }
   ],
   "source": [
    "import re\n",
    "def spacecount(filepath):\n",
    "        pattern = '[ \\n]'\n",
    "        filedata = readfile(filepath)\n",
    "        count = len(re.split(pattern,filedata))\n",
    "        return count\n",
    "filename='data files/data.txt'\n",
    "print(spacecount(filepath))"
   ]
  },
  {
   "cell_type": "code",
   "execution_count": 128,
   "metadata": {},
   "outputs": [
    {
     "name": "stdout",
     "output_type": "stream",
     "text": [
      "['python', 'programming', 'lab', 'aliet', 'college']\n"
     ]
    }
   ],
   "source": [
    "def unique(filename):\n",
    "     with open(\"data files/data.txt\") as f:\n",
    "        fh=f.read()\n",
    "        words =fh.split()\n",
    "        unique=[]\n",
    "        for i in words:\n",
    "            if i not in unique:\n",
    "                unique.append(i)\n",
    "        print(unique)\n",
    "\n",
    "unique(filepath)"
   ]
  },
  {
   "cell_type": "code",
   "execution_count": 134,
   "metadata": {},
   "outputs": [
    {
     "ename": "NameError",
     "evalue": "name 'element' is not defined",
     "output_type": "error",
     "traceback": [
      "\u001b[1;31m---------------------------------------------------------------------------\u001b[0m",
      "\u001b[1;31mNameError\u001b[0m                                 Traceback (most recent call last)",
      "\u001b[1;32m<ipython-input-134-6d3317709d90>\u001b[0m in \u001b[0;36m<module>\u001b[1;34m()\u001b[0m\n\u001b[0;32m     10\u001b[0m                 \u001b[0mwordfreq\u001b[0m\u001b[1;33m[\u001b[0m\u001b[0mword\u001b[0m\u001b[1;33m]\u001b[0m\u001b[1;33m+=\u001b[0m\u001b[1;36m1\u001b[0m\u001b[1;33m\u001b[0m\u001b[0m\n\u001b[0;32m     11\u001b[0m             \u001b[1;32mreturn\u001b[0m \u001b[0mwordfreq\u001b[0m\u001b[1;33m\u001b[0m\u001b[0m\n\u001b[1;32m---> 12\u001b[1;33m \u001b[0mwordcount\u001b[0m\u001b[1;33m(\u001b[0m\u001b[0mfilepath\u001b[0m\u001b[1;33m)\u001b[0m\u001b[1;33m\u001b[0m\u001b[0m\n\u001b[0m",
      "\u001b[1;32m<ipython-input-134-6d3317709d90>\u001b[0m in \u001b[0;36mwordcount\u001b[1;34m(filename)\u001b[0m\n\u001b[0;32m      5\u001b[0m         \u001b[0mwordsfreq\u001b[0m\u001b[1;33m=\u001b[0m\u001b[1;33m(\u001b[0m\u001b[1;33m)\u001b[0m\u001b[1;33m\u001b[0m\u001b[0m\n\u001b[0;32m      6\u001b[0m         \u001b[1;32mfor\u001b[0m \u001b[0melment\u001b[0m \u001b[1;32min\u001b[0m \u001b[0mallwords\u001b[0m\u001b[1;33m:\u001b[0m\u001b[1;33m\u001b[0m\u001b[0m\n\u001b[1;32m----> 7\u001b[1;33m             \u001b[1;32mif\u001b[0m \u001b[0melement\u001b[0m \u001b[1;32mnot\u001b[0m  \u001b[1;32min\u001b[0m \u001b[0mwordfreq\u001b[0m\u001b[1;33m:\u001b[0m\u001b[1;33m\u001b[0m\u001b[0m\n\u001b[0m\u001b[0;32m      8\u001b[0m                 \u001b[0mwordfreq\u001b[0m\u001b[1;33m[\u001b[0m\u001b[0mword\u001b[0m\u001b[1;33m]\u001b[0m\u001b[1;33m=\u001b[0m\u001b[1;36m1\u001b[0m\u001b[1;33m\u001b[0m\u001b[0m\n\u001b[0;32m      9\u001b[0m             \u001b[1;32melse\u001b[0m\u001b[1;33m:\u001b[0m\u001b[1;33m\u001b[0m\u001b[0m\n",
      "\u001b[1;31mNameError\u001b[0m: name 'element' is not defined"
     ]
    }
   ],
   "source": [
    "def wordcount(filename):\n",
    "    with open(filename,'r') as f:\n",
    "        data=f.read()\n",
    "        allwords=data.split()\n",
    "        wordsfreq=()\n",
    "        for elment in allwords:\n",
    "            if element not  in wordfreq:            \n",
    "                wordfreq[word]=1\n",
    "            else:\n",
    "                wordfreq[word]+=1\n",
    "            return wordfreq\n",
    "wordcount(filepath)"
   ]
  },
  {
   "cell_type": "code",
   "execution_count": 137,
   "metadata": {},
   "outputs": [
    {
     "data": {
      "text/plain": [
       "['__and__',\n",
       " '__class__',\n",
       " '__contains__',\n",
       " '__delattr__',\n",
       " '__dir__',\n",
       " '__doc__',\n",
       " '__eq__',\n",
       " '__format__',\n",
       " '__ge__',\n",
       " '__getattribute__',\n",
       " '__gt__',\n",
       " '__hash__',\n",
       " '__iand__',\n",
       " '__init__',\n",
       " '__init_subclass__',\n",
       " '__ior__',\n",
       " '__isub__',\n",
       " '__iter__',\n",
       " '__ixor__',\n",
       " '__le__',\n",
       " '__len__',\n",
       " '__lt__',\n",
       " '__ne__',\n",
       " '__new__',\n",
       " '__or__',\n",
       " '__rand__',\n",
       " '__reduce__',\n",
       " '__reduce_ex__',\n",
       " '__repr__',\n",
       " '__ror__',\n",
       " '__rsub__',\n",
       " '__rxor__',\n",
       " '__setattr__',\n",
       " '__sizeof__',\n",
       " '__str__',\n",
       " '__sub__',\n",
       " '__subclasshook__',\n",
       " '__xor__',\n",
       " 'add',\n",
       " 'clear',\n",
       " 'copy',\n",
       " 'difference',\n",
       " 'difference_update',\n",
       " 'discard',\n",
       " 'intersection',\n",
       " 'intersection_update',\n",
       " 'isdisjoint',\n",
       " 'issubset',\n",
       " 'issuperset',\n",
       " 'pop',\n",
       " 'remove',\n",
       " 'symmetric_difference',\n",
       " 'symmetric_difference_update',\n",
       " 'union',\n",
       " 'update']"
      ]
     },
     "execution_count": 137,
     "metadata": {},
     "output_type": "execute_result"
    }
   ],
   "source": [
    "dir(set)"
   ]
  },
  {
   "cell_type": "code",
   "execution_count": 142,
   "metadata": {},
   "outputs": [
    {
     "data": {
      "text/plain": [
       "{1, 123, '456', 'abc', 'iii', 'iiiii'}"
      ]
     },
     "execution_count": 142,
     "metadata": {},
     "output_type": "execute_result"
    }
   ],
   "source": [
    "s1={\"abc\",1,\"iii\",123,123,\"iiiii\"}\n",
    "s1.add(\"456\")\n",
    "s1"
   ]
  },
  {
   "cell_type": "code",
   "execution_count": 146,
   "metadata": {},
   "outputs": [
    {
     "data": {
      "text/plain": [
       "{1, 123, '456', 4569, 'abc', 'iii', 'iiiii', 'wwww'}"
      ]
     },
     "execution_count": 146,
     "metadata": {},
     "output_type": "execute_result"
    }
   ],
   "source": [
    "s2={\"wwww\",4569}\n",
    "s1|s2"
   ]
  },
  {
   "cell_type": "code",
   "execution_count": 162,
   "metadata": {},
   "outputs": [
    {
     "name": "stdout",
     "output_type": "stream",
     "text": [
      "15\n",
      "18\n",
      "21\n"
     ]
    }
   ],
   "source": [
    "### Task\n",
    "### program for generating multiplication table\n",
    "#### i/p:(3,5,7)\n",
    "### o/p:3*5=15\n",
    "###3*6=18\n",
    "#### 3*7=21\n",
    "def multiplication(n,lb,ub):\n",
    "    for i in range(lb,ub+1):\n",
    "        a=n*i\n",
    "        print(a)\n",
    "multiplication(3,5,7)"
   ]
  },
  {
   "cell_type": "code",
   "execution_count": 3,
   "metadata": {},
   "outputs": [
    {
     "name": "stdout",
     "output_type": "stream",
     "text": [
      "[1, 10, 9, 8]\n",
      "10\n",
      "1\n",
      "7.857142857142857\n"
     ]
    }
   ],
   "source": [
    "### write a program to find max,min\n",
    "# and average of number in list\n",
    "#### i/p:[1,10,10,9,9,8,8]\n",
    "###o/p 1.find unique list\n",
    " ### 2. find max and min values\n",
    " #### 3.find average\n",
    "def uniquelist():\n",
    "    li=[1,10,10,9,9,8,8]\n",
    "    l=[]\n",
    "    for i in li:\n",
    "        if i not in l:\n",
    "            l.append(i)\n",
    "    print(l)\n",
    "    print(max(li))\n",
    "    print(min(li))\n",
    "    average=(sum(li)/len(li))\n",
    "    print(average)\n",
    "uniquelist()    \n",
    "\n",
    "\n"
   ]
  },
  {
   "cell_type": "code",
   "execution_count": 4,
   "metadata": {},
   "outputs": [
    {
     "name": "stdout",
     "output_type": "stream",
     "text": [
      "1\n"
     ]
    }
   ],
   "source": [
    "#### write a program for linearsearch in a list\n",
    "### if key is found print \"1\"\n",
    "#### else print\"-1\"\n",
    "###i/p:[10,9,8,7,6],5\n",
    "####     o/p:-1\n",
    "def linearsearch(a):\n",
    "    l=[10,9,8,7,6]\n",
    "    if a in l:\n",
    "        print(1)\n",
    "    else:\n",
    "        print(-1)\n",
    "linearsearch(8)        \n"
   ]
  },
  {
   "cell_type": "code",
   "execution_count": 6,
   "metadata": {},
   "outputs": [
    {
     "ename": "RecursionError",
     "evalue": "maximum recursion depth exceeded",
     "output_type": "error",
     "traceback": [
      "\u001b[1;31m---------------------------------------------------------------------------\u001b[0m",
      "\u001b[1;31mRecursionError\u001b[0m                            Traceback (most recent call last)",
      "\u001b[1;32m<ipython-input-6-10b95eae6284>\u001b[0m in \u001b[0;36m<module>\u001b[1;34m()\u001b[0m\n\u001b[0;32m      5\u001b[0m     \u001b[0ms\u001b[0m\u001b[1;33m=\u001b[0m\u001b[0msqrt\u001b[0m\u001b[1;33m(\u001b[0m\u001b[0mn\u001b[0m\u001b[1;33m)\u001b[0m\u001b[1;33m\u001b[0m\u001b[0m\n\u001b[0;32m      6\u001b[0m     \u001b[0mprint\u001b[0m\u001b[1;33m(\u001b[0m\u001b[0ms\u001b[0m\u001b[1;33m)\u001b[0m\u001b[1;33m\u001b[0m\u001b[0m\n\u001b[1;32m----> 7\u001b[1;33m \u001b[0msqrt\u001b[0m\u001b[1;33m(\u001b[0m\u001b[1;36m8\u001b[0m\u001b[1;33m)\u001b[0m\u001b[1;33m\u001b[0m\u001b[0m\n\u001b[0m",
      "\u001b[1;32m<ipython-input-6-10b95eae6284>\u001b[0m in \u001b[0;36msqrt\u001b[1;34m(n)\u001b[0m\n\u001b[0;32m      3\u001b[0m \u001b[1;31m####math packages\u001b[0m\u001b[1;33m\u001b[0m\u001b[1;33m\u001b[0m\u001b[0m\n\u001b[0;32m      4\u001b[0m \u001b[1;32mdef\u001b[0m \u001b[0msqrt\u001b[0m\u001b[1;33m(\u001b[0m\u001b[0mn\u001b[0m\u001b[1;33m)\u001b[0m\u001b[1;33m:\u001b[0m\u001b[1;33m\u001b[0m\u001b[0m\n\u001b[1;32m----> 5\u001b[1;33m     \u001b[0ms\u001b[0m\u001b[1;33m=\u001b[0m\u001b[0msqrt\u001b[0m\u001b[1;33m(\u001b[0m\u001b[0mn\u001b[0m\u001b[1;33m)\u001b[0m\u001b[1;33m\u001b[0m\u001b[0m\n\u001b[0m\u001b[0;32m      6\u001b[0m     \u001b[0mprint\u001b[0m\u001b[1;33m(\u001b[0m\u001b[0ms\u001b[0m\u001b[1;33m)\u001b[0m\u001b[1;33m\u001b[0m\u001b[0m\n\u001b[0;32m      7\u001b[0m \u001b[0msqrt\u001b[0m\u001b[1;33m(\u001b[0m\u001b[1;36m8\u001b[0m\u001b[1;33m)\u001b[0m\u001b[1;33m\u001b[0m\u001b[0m\n",
      "... last 1 frames repeated, from the frame below ...\n",
      "\u001b[1;32m<ipython-input-6-10b95eae6284>\u001b[0m in \u001b[0;36msqrt\u001b[1;34m(n)\u001b[0m\n\u001b[0;32m      3\u001b[0m \u001b[1;31m####math packages\u001b[0m\u001b[1;33m\u001b[0m\u001b[1;33m\u001b[0m\u001b[0m\n\u001b[0;32m      4\u001b[0m \u001b[1;32mdef\u001b[0m \u001b[0msqrt\u001b[0m\u001b[1;33m(\u001b[0m\u001b[0mn\u001b[0m\u001b[1;33m)\u001b[0m\u001b[1;33m:\u001b[0m\u001b[1;33m\u001b[0m\u001b[0m\n\u001b[1;32m----> 5\u001b[1;33m     \u001b[0ms\u001b[0m\u001b[1;33m=\u001b[0m\u001b[0msqrt\u001b[0m\u001b[1;33m(\u001b[0m\u001b[0mn\u001b[0m\u001b[1;33m)\u001b[0m\u001b[1;33m\u001b[0m\u001b[0m\n\u001b[0m\u001b[0;32m      6\u001b[0m     \u001b[0mprint\u001b[0m\u001b[1;33m(\u001b[0m\u001b[0ms\u001b[0m\u001b[1;33m)\u001b[0m\u001b[1;33m\u001b[0m\u001b[0m\n\u001b[0;32m      7\u001b[0m \u001b[0msqrt\u001b[0m\u001b[1;33m(\u001b[0m\u001b[1;36m8\u001b[0m\u001b[1;33m)\u001b[0m\u001b[1;33m\u001b[0m\u001b[0m\n",
      "\u001b[1;31mRecursionError\u001b[0m: maximum recursion depth exceeded"
     ]
    }
   ],
   "source": [
    "#### find sqrt of a num\n",
    "####with out using \n",
    "####math pack"
   ]
  },
  {
   "cell_type": "code",
   "execution_count": 165,
   "metadata": {},
   "outputs": [],
   "source": [
    "# using a re \n",
    "## ADD a name,ph,email\n",
    "## dictionary\n",
    "import re\n",
    "def add(number):\n",
    "    pattern='^[a-z][A-Z][6-9][0-9]{9}[a-z][A-Z][0-9][1-9]$'\n",
    "    if re.match(pattern,name,number,email):\n",
    "        print(\"valid\")\n",
    "    else:\n",
    "        print(\"invalid\")\n",
    "        "
   ]
  },
  {
   "cell_type": "markdown",
   "metadata": {},
   "source": [
    "### data visualization\n",
    "- MATLIB is a poltting libary for python programming language and its numerical mathematics extensions as numpy\n",
    "- data in graph format or graphical repernestation"
   ]
  },
  {
   "cell_type": "markdown",
   "metadata": {},
   "source": [
    "- graphs repersentation\n",
    "- line graph \n",
    "- bar graph\n",
    "- histogram\n",
    "- non linear graph"
   ]
  },
  {
   "cell_type": "markdown",
   "metadata": {},
   "source": [
    "# linear graph \n",
    "\n",
    "- line graph is a graph which displays information in series  of data points called markers connected by staright line segments\n",
    "\n",
    "- line graphs are used find relationship between two data sets on different axis for instances x,y"
   ]
  },
  {
   "cell_type": "code",
   "execution_count": 5,
   "metadata": {},
   "outputs": [
    {
     "data": {
      "image/png": "[encoded data removed]",
      "text/plain": [
       "<Figure size 432x288 with 1 Axes>"
      ]
     },
     "metadata": {},
     "output_type": "display_data"
    }
   ],
   "source": [
    "from matplotlib import pyplot as plt\n",
    "plt.title(\"linear graph\")\n",
    "plt.plot([1,2,3],[1,2,3])\n",
    "plt.show()"
   ]
  },
  {
   "cell_type": "code",
   "execution_count": 7,
   "metadata": {},
   "outputs": [
    {
     "data": {
      "image/png": "[encoded data removed]",
      "text/plain": [
       "<Figure size 432x288 with 1 Axes>"
      ]
     },
     "metadata": {},
     "output_type": "display_data"
    }
   ],
   "source": [
    "import matplotlib.pyplot as plt\n",
    "import numpy as np\n",
    "a=np.linspace(0,10,100)\n",
    "b=np.exp(-a)\n",
    "plt.plot(a,b)\n",
    "plt.show()"
   ]
  },
  {
   "cell_type": "code",
   "execution_count": null,
   "metadata": {},
   "outputs": [],
   "source": []
  },
  {
   "cell_type": "code",
   "execution_count": null,
   "metadata": {},
   "outputs": [],
   "source": []
  }
 ],
 "metadata": {
  "kernelspec": {
   "display_name": "Python 3",
   "language": "python",
   "name": "python3"
  },
  "language_info": {
   "codemirror_mode": {
    "name": "ipython",
    "version": 3
   },
   "file_extension": ".py",
   "mimetype": "text/x-python",
   "name": "python",
   "nbconvert_exporter": "python",
   "pygments_lexer": "ipython3",
   "version": "3.6.5"
  }
 },
 "nbformat": 4,
 "nbformat_minor": 2
}
